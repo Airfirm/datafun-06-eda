{
 "cells": [
  {
   "cell_type": "markdown",
   "id": "41c74bf1",
   "metadata": {},
   "source": [
    "# Exploratory Data Analysis"
   ]
  },
  {
   "cell_type": "markdown",
   "id": "ee434b8e",
   "metadata": {},
   "source": [
    "Purpose: The objective here, is to perform EDA, and data visualization tasks on “Student Habits vs Academic Performance: A Simulated Study” datasets!\n",
    "\n",
    "####   Femi Jupyter Notebook EDA\n",
    "###### GitHub: [My GitHub Profile](https://github.com/Airfirm)\n",
    "####   Author: Oluwafemi Salawu\n",
    "####   Repository: datafun-06-eda\n",
    "####   Date: 06/07/2025"
   ]
  },
  {
   "cell_type": "markdown",
   "id": "c61a0fbb",
   "metadata": {},
   "source": [
    "Section 1. Imports and Read Dataset"
   ]
  },
  {
   "cell_type": "code",
   "execution_count": null,
   "id": "47176efc",
   "metadata": {
    "vscode": {
     "languageId": "plaintext"
    }
   },
   "outputs": [],
   "source": [
    "# Check if file is available in the current directory\n",
    "import os\n",
    "\n",
    "# Core Data Science Imports\n",
    "import numpy as np  # Numerical computing (v1.24+ recommended)\n",
    "import pandas as pd  # Data manipulation (v2.0+ recommended)\n",
    "import pyarrow as pa  # Arrow memory format (v12.0+ recommended)\n",
    "\n",
    "# Visualization Imports\n",
    "import matplotlib as mpl  # Base matplotlib\n",
    "import matplotlib.pyplot as plt  # Plotting interface\n",
    "import seaborn as sns  # Statistical visualization (v0.12+ recommended)\n",
    "\n",
    "# Configure global settings\n",
    "plt.style.use('seaborn-v0_8')  # Modern style\n",
    "pd.set_option('display.max_columns', 30)  # Show more columns\n",
    "pd.set_option('display.float_format', '{:.2f}'.format)  # Clean number display\n",
    "\n",
    "# Print versions\n",
    "print(f\"numpy: {np.__version__}\")\n",
    "print(f\"pandas: {pd.__version__}\")\n",
    "print(f\"pyarrow: {pa.__version__}\")\n",
    "print(f\"matplotlib: {mpl.__version__}\")\n",
    "print(f\"seaborn: {sns.__version__}\")\n",
    "\n",
    "# Verify imports worked\n",
    "assert not pd.isnull(np.pi)  # Quick sanity check\n",
    "print(\"\\nAll imports successful! ✅\")"
   ]
  },
  {
   "cell_type": "markdown",
   "id": "3f59496c",
   "metadata": {},
   "source": [
    "Checking if file path exist"
   ]
  },
  {
   "cell_type": "code",
   "execution_count": null,
   "id": "b5ec3d34",
   "metadata": {
    "vscode": {
     "languageId": "plaintext"
    }
   },
   "outputs": [],
   "source": [
    "print(os.path.exists('eda_datasets/student_habits_vs_academic_performance.csv'))"
   ]
  },
  {
   "cell_type": "markdown",
   "id": "e12040c8",
   "metadata": {},
   "source": [
    "Read CSV File"
   ]
  },
  {
   "cell_type": "code",
   "execution_count": null,
   "id": "f702ed55",
   "metadata": {
    "vscode": {
     "languageId": "plaintext"
    }
   },
   "outputs": [],
   "source": [
    "url = 'eda_datasets/student_habits_vs_academic_performance.csv'\n",
    "df = pd.read_csv(url)\n",
    "\n",
    "# Display the first few rows\n",
    "df.columns = df.columns.str.replace(' ', '_')  # Clean column names\n",
    "print(\"\\nDataFrame loaded successfully:\")"
   ]
  },
  {
   "cell_type": "markdown",
   "id": "8d9115d0",
   "metadata": {},
   "source": [
    "Section 2. Display first and last 5 rows"
   ]
  },
  {
   "cell_type": "code",
   "execution_count": null,
   "id": "a5bdccf7",
   "metadata": {
    "vscode": {
     "languageId": "plaintext"
    }
   },
   "outputs": [],
   "source": [
    "# Display the first ten rows\n",
    "df"
   ]
  },
  {
   "cell_type": "markdown",
   "id": "feecf416",
   "metadata": {},
   "source": [
    "Section 3. Initial Descriptive Statistics"
   ]
  },
  {
   "cell_type": "code",
   "execution_count": null,
   "id": "969ac799",
   "metadata": {
    "vscode": {
     "languageId": "plaintext"
    }
   },
   "outputs": [],
   "source": [
    "df.describe()  # Summary statistics for all columns"
   ]
  },
  {
   "cell_type": "markdown",
   "id": "fce08b87",
   "metadata": {},
   "source": [
    "Check parental educational level statistics"
   ]
  },
  {
   "cell_type": "code",
   "execution_count": null,
   "id": "e9d59329",
   "metadata": {
    "vscode": {
     "languageId": "plaintext"
    }
   },
   "outputs": [],
   "source": [
    "# checking parental_education_level field\n",
    "df['parental_education_level'].describe()"
   ]
  },
  {
   "cell_type": "markdown",
   "id": "eb9d2613",
   "metadata": {},
   "source": [
    "Section 4. Dataset Summary"
   ]
  },
  {
   "cell_type": "code",
   "execution_count": null,
   "id": "02986c8d",
   "metadata": {
    "vscode": {
     "languageId": "plaintext"
    }
   },
   "outputs": [],
   "source": [
    "df.info()  # DataFrame summary"
   ]
  },
  {
   "cell_type": "markdown",
   "id": "b2c8ee18",
   "metadata": {},
   "source": [
    "Check for missing / null values"
   ]
  },
  {
   "cell_type": "code",
   "execution_count": null,
   "id": "1de7b200",
   "metadata": {
    "vscode": {
     "languageId": "plaintext"
    }
   },
   "outputs": [],
   "source": [
    "# checking for missing values\n",
    "df.isnull().sum()"
   ]
  },
  {
   "cell_type": "markdown",
   "id": "276834ae",
   "metadata": {},
   "source": [
    "Filling missing / null values with most common value in the column"
   ]
  },
  {
   "cell_type": "code",
   "execution_count": null,
   "id": "93cecc8f",
   "metadata": {
    "vscode": {
     "languageId": "plaintext"
    }
   },
   "outputs": [],
   "source": [
    "# The parental_education_level column, has 91 missing values, we can fill these with the mode (most common value)\n",
    "df['parental_education_level'] = df['parental_education_level'].fillna(df['parental_education_level'].mode()[0])"
   ]
  },
  {
   "cell_type": "markdown",
   "id": "08977dd7",
   "metadata": {},
   "source": [
    "Check missing / null values are filled"
   ]
  },
  {
   "cell_type": "code",
   "execution_count": null,
   "id": "bd01b2a6",
   "metadata": {
    "vscode": {
     "languageId": "plaintext"
    }
   },
   "outputs": [],
   "source": [
    "# checking for missing values after filling\n",
    "df.isnull().sum()"
   ]
  },
  {
   "cell_type": "markdown",
   "id": "98b1bbee",
   "metadata": {},
   "source": [
    "Skill: Inspect Numeric Columns\n",
    "Common exploration techniques for numeric columns include:\n",
    "\n",
    "df.describe(): Summarizes statistics like mean, median, and standard deviation.\n",
    "df['column_name'].hist(): Visualizes the distribution of values with a histogram.\n",
    "df.corr(): Computes the correlation between numeric columns, which helps identify relationships between variables.\n",
    "df.hist(): Creates histograms for all numeric columns in the DataFrame, helping you see the distributions at a glance.\n",
    "\n",
    "\n",
    "Skill: Inspect Categorical Columns\n",
    "Common techniques include:\n",
    "\n",
    "df['categorical_column'].value_counts(): Counts the occurrences of each unique value in a categorical column, providing a frequency distribution.\n",
    "df['categorical_column'].unique(): Displays the unique categories present in the column, helping you understand the distinct values.\n",
    "pd.crosstab(df['column1'], df['column2']): Cross-tabulates two categorical columns to observe relationships between them. This is useful for understanding how one category is distributed across another.\n",
    "\n",
    "\n",
    "Advanced Skill: Prepare Categorical Data for Machine Learning\n",
    "In machine learning, models require numeric input, and we can’t feed them raw text like \"red\", \"blue\", or \"green\".\n",
    "\n",
    "That means we often need to convert categorical data into numeric format before training a model.\n",
    "There are different ways to do this, depending on the model and data — from simple mappings (like 0, 1, 2) to more advanced techniques.\n",
    "\n",
    "Advanced (optional): For professional projects, look up one-hot encoding, a common method where each category is turned into a separate column with 1s and 0s."
   ]
  }
 ],
 "metadata": {
  "language_info": {
   "name": "python"
  }
 },
 "nbformat": 4,
 "nbformat_minor": 5
}
