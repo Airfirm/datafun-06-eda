{
 "cells": [
  {
   "cell_type": "markdown",
   "id": "4164368e",
   "metadata": {},
   "source": [
    "# Exploratory Data Analysis"
   ]
  },
  {
   "cell_type": "markdown",
   "id": "1284ebd9",
   "metadata": {},
   "source": [
    "Purpose: Implement Jupyter Notebook to perform exploratory data analysis (EDA) using pandas, matplotlib, seaborn, matplotlib.pyplot and other tools / packages. I will be using the Seaborn library to load the dataset of choice, and also use other tools for data collection / import, description, transformation, visualizations among other things.\n",
    "\n",
    "####   Femi Jupyter Notebook EDA\n",
    "###### GitHub: [My GitHub Profile](https://github.com/Airfirm)\n",
    "####   Author: Oluwafemi Salawu\n",
    "####   Repository: datafun-06-eda\n",
    "####   Date: 06/07/2025"
   ]
  },
  {
   "cell_type": "markdown",
   "id": "d37e059f",
   "metadata": {},
   "source": [
    "Section 1. Imports and Load"
   ]
  },
  {
   "cell_type": "code",
   "execution_count": 1,
   "id": "ea7a620d",
   "metadata": {},
   "outputs": [
    {
     "name": "stdout",
     "output_type": "stream",
     "text": [
      "Hello, World!\n"
     ]
    }
   ],
   "source": [
    "print('Hello, World!')"
   ]
  }
 ],
 "metadata": {
  "kernelspec": {
   "display_name": ".venv",
   "language": "python",
   "name": "python3"
  },
  "language_info": {
   "codemirror_mode": {
    "name": "ipython",
    "version": 3
   },
   "file_extension": ".py",
   "mimetype": "text/x-python",
   "name": "python",
   "nbconvert_exporter": "python",
   "pygments_lexer": "ipython3",
   "version": "3.13.3"
  }
 },
 "nbformat": 4,
 "nbformat_minor": 5
}
