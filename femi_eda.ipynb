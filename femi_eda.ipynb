{
 "cells": [
  {
   "cell_type": "markdown",
   "id": "4164368e",
   "metadata": {},
   "source": [
    "# Exploratory Data Analysis"
   ]
  },
  {
   "cell_type": "markdown",
   "id": "1284ebd9",
   "metadata": {},
   "source": [
    "Purpose: The objective here, is to perform EDA, and data visualization tasks on “Student Habits vs Academic Performance: A Simulated Study” datasets!\n",
    "\n",
    "####   Femi Jupyter Notebook EDA\n",
    "###### GitHub: [My GitHub Profile](https://github.com/Airfirm)\n",
    "####   Author: Oluwafemi Salawu\n",
    "####   Repository: datafun-06-eda\n",
    "####   Date: 06/07/2025"
   ]
  },
  {
   "cell_type": "markdown",
   "id": "d37e059f",
   "metadata": {},
   "source": [
    "Section 1. Imports and Load"
   ]
  },
  {
   "cell_type": "code",
   "execution_count": 1,
   "id": "ea7a620d",
   "metadata": {},
   "outputs": [
    {
     "name": "stdout",
     "output_type": "stream",
     "text": [
      "numpy: 2.3.0\n",
      "pandas: 2.3.0\n",
      "pyarrow: 20.0.0\n",
      "matplotlib: 3.10.3\n",
      "seaborn: 0.13.2\n",
      "\n",
      "All imports successful! ✅\n"
     ]
    }
   ],
   "source": [
    "# Core Data Science Imports\n",
    "import numpy as np  # Numerical computing (v1.24+ recommended)\n",
    "import pandas as pd  # Data manipulation (v2.0+ recommended)\n",
    "import pyarrow as pa  # Arrow memory format (v12.0+ recommended)\n",
    "\n",
    "# Visualization Imports\n",
    "import matplotlib as mpl  # Base matplotlib\n",
    "import matplotlib.pyplot as plt  # Plotting interface\n",
    "import seaborn as sns  # Statistical visualization (v0.12+ recommended)\n",
    "\n",
    "# Configure global settings\n",
    "plt.style.use('seaborn-v0_8')  # Modern style\n",
    "pd.set_option('display.max_columns', 30)  # Show more columns\n",
    "pd.set_option('display.float_format', '{:.2f}'.format)  # Clean number display\n",
    "\n",
    "# Print versions\n",
    "print(f\"numpy: {np.__version__}\")\n",
    "print(f\"pandas: {pd.__version__}\")\n",
    "print(f\"pyarrow: {pa.__version__}\")\n",
    "print(f\"matplotlib: {mpl.__version__}\")\n",
    "print(f\"seaborn: {sns.__version__}\")\n",
    "\n",
    "# Verify imports worked\n",
    "assert not pd.isnull(np.pi)  # Quick sanity check\n",
    "print(\"\\nAll imports successful! ✅\")"
   ]
  },
  {
   "cell_type": "code",
   "execution_count": 20,
   "id": "540ef56c",
   "metadata": {},
   "outputs": [
    {
     "name": "stdout",
     "output_type": "stream",
     "text": [
      "True\n"
     ]
    }
   ],
   "source": [
    "import os\n",
    "print(os.path.exists('datasets/student_habits_vs_academic_performance.csv'))"
   ]
  },
  {
   "cell_type": "code",
   "execution_count": 16,
   "id": "4840917a",
   "metadata": {},
   "outputs": [
    {
     "name": "stdout",
     "output_type": "stream",
     "text": [
      "\n",
      "DataFrame loaded successfully:\n"
     ]
    }
   ],
   "source": [
    "url = 'datasets/student_habits_vs_academic_performance.csv'\n",
    "df = pd.read_csv(url)\n",
    "\n",
    "# Display the first few rows\n",
    "df.columns = df.columns.str.replace(' ', '_')  # Clean column names\n",
    "print(\"\\nDataFrame loaded successfully:\")"
   ]
  },
  {
   "cell_type": "code",
   "execution_count": 19,
   "id": "e60d6f15",
   "metadata": {},
   "outputs": [
    {
     "data": {
      "text/html": [
       "<div>\n",
       "<style scoped>\n",
       "    .dataframe tbody tr th:only-of-type {\n",
       "        vertical-align: middle;\n",
       "    }\n",
       "\n",
       "    .dataframe tbody tr th {\n",
       "        vertical-align: top;\n",
       "    }\n",
       "\n",
       "    .dataframe thead th {\n",
       "        text-align: right;\n",
       "    }\n",
       "</style>\n",
       "<table border=\"1\" class=\"dataframe\">\n",
       "  <thead>\n",
       "    <tr style=\"text-align: right;\">\n",
       "      <th></th>\n",
       "      <th>student_id\\tage\\tgender\\tstudy_hours_per_day\\tsocial_media_hours\\tnetflix_hours\\tpart_time_job\\tattendance_percentage\\tsleep_hours\\tdiet_quality\\texercise_frequency\\tparental_education_level\\tinternet_quality\\tmental_health_rating\\textracurricular_participation\\texam_score</th>\n",
       "    </tr>\n",
       "  </thead>\n",
       "  <tbody>\n",
       "    <tr>\n",
       "      <th>0</th>\n",
       "      <td>S1000\\t23\\tFemale\\t0\\t1.2\\t1.1\\tNo\\t85\\t8\\tFai...</td>\n",
       "    </tr>\n",
       "    <tr>\n",
       "      <th>1</th>\n",
       "      <td>S1001\\t20\\tFemale\\t6.9\\t2.8\\t2.3\\tNo\\t97.3\\t4....</td>\n",
       "    </tr>\n",
       "    <tr>\n",
       "      <th>2</th>\n",
       "      <td>S1002\\t21\\tMale\\t1.4\\t3.1\\t1.3\\tNo\\t94.8\\t8\\tP...</td>\n",
       "    </tr>\n",
       "    <tr>\n",
       "      <th>3</th>\n",
       "      <td>S1003\\t23\\tFemale\\t1\\t3.9\\t1\\tNo\\t71\\t9.2\\tPoo...</td>\n",
       "    </tr>\n",
       "    <tr>\n",
       "      <th>4</th>\n",
       "      <td>S1004\\t19\\tFemale\\t5\\t4.4\\t0.5\\tNo\\t90.9\\t4.9\\...</td>\n",
       "    </tr>\n",
       "    <tr>\n",
       "      <th>5</th>\n",
       "      <td>S1005\\t24\\tMale\\t7.2\\t1.3\\t0\\tNo\\t82.9\\t7.4\\tF...</td>\n",
       "    </tr>\n",
       "    <tr>\n",
       "      <th>6</th>\n",
       "      <td>S1006\\t21\\tFemale\\t5.6\\t1.5\\t1.4\\tYes\\t85.8\\t6...</td>\n",
       "    </tr>\n",
       "    <tr>\n",
       "      <th>7</th>\n",
       "      <td>S1007\\t21\\tFemale\\t4.3\\t1\\t2\\tYes\\t77.7\\t4.6\\t...</td>\n",
       "    </tr>\n",
       "    <tr>\n",
       "      <th>8</th>\n",
       "      <td>S1008\\t23\\tFemale\\t4.4\\t2.2\\t1.7\\tNo\\t100\\t7.1...</td>\n",
       "    </tr>\n",
       "    <tr>\n",
       "      <th>9</th>\n",
       "      <td>S1009\\t18\\tFemale\\t4.8\\t3.1\\t1.3\\tNo\\t95.4\\t7....</td>\n",
       "    </tr>\n",
       "  </tbody>\n",
       "</table>\n",
       "</div>"
      ],
      "text/plain": [
       "  student_id\\tage\\tgender\\tstudy_hours_per_day\\tsocial_media_hours\\tnetflix_hours\\tpart_time_job\\tattendance_percentage\\tsleep_hours\\tdiet_quality\\texercise_frequency\\tparental_education_level\\tinternet_quality\\tmental_health_rating\\textracurricular_participation\\texam_score\n",
       "0  S1000\\t23\\tFemale\\t0\\t1.2\\t1.1\\tNo\\t85\\t8\\tFai...                                                                                                                                                                                                                               \n",
       "1  S1001\\t20\\tFemale\\t6.9\\t2.8\\t2.3\\tNo\\t97.3\\t4....                                                                                                                                                                                                                               \n",
       "2  S1002\\t21\\tMale\\t1.4\\t3.1\\t1.3\\tNo\\t94.8\\t8\\tP...                                                                                                                                                                                                                               \n",
       "3  S1003\\t23\\tFemale\\t1\\t3.9\\t1\\tNo\\t71\\t9.2\\tPoo...                                                                                                                                                                                                                               \n",
       "4  S1004\\t19\\tFemale\\t5\\t4.4\\t0.5\\tNo\\t90.9\\t4.9\\...                                                                                                                                                                                                                               \n",
       "5  S1005\\t24\\tMale\\t7.2\\t1.3\\t0\\tNo\\t82.9\\t7.4\\tF...                                                                                                                                                                                                                               \n",
       "6  S1006\\t21\\tFemale\\t5.6\\t1.5\\t1.4\\tYes\\t85.8\\t6...                                                                                                                                                                                                                               \n",
       "7  S1007\\t21\\tFemale\\t4.3\\t1\\t2\\tYes\\t77.7\\t4.6\\t...                                                                                                                                                                                                                               \n",
       "8  S1008\\t23\\tFemale\\t4.4\\t2.2\\t1.7\\tNo\\t100\\t7.1...                                                                                                                                                                                                                               \n",
       "9  S1009\\t18\\tFemale\\t4.8\\t3.1\\t1.3\\tNo\\t95.4\\t7....                                                                                                                                                                                                                               "
      ]
     },
     "execution_count": 19,
     "metadata": {},
     "output_type": "execute_result"
    }
   ],
   "source": [
    "# Display the first ten rows\n",
    "df.head(10)"
   ]
  },
  {
   "cell_type": "code",
   "execution_count": 21,
   "id": "dbbba3c6",
   "metadata": {},
   "outputs": [
    {
     "data": {
      "text/html": [
       "<div>\n",
       "<style scoped>\n",
       "    .dataframe tbody tr th:only-of-type {\n",
       "        vertical-align: middle;\n",
       "    }\n",
       "\n",
       "    .dataframe tbody tr th {\n",
       "        vertical-align: top;\n",
       "    }\n",
       "\n",
       "    .dataframe thead th {\n",
       "        text-align: right;\n",
       "    }\n",
       "</style>\n",
       "<table border=\"1\" class=\"dataframe\">\n",
       "  <thead>\n",
       "    <tr style=\"text-align: right;\">\n",
       "      <th></th>\n",
       "      <th>student_id\\tage\\tgender\\tstudy_hours_per_day\\tsocial_media_hours\\tnetflix_hours\\tpart_time_job\\tattendance_percentage\\tsleep_hours\\tdiet_quality\\texercise_frequency\\tparental_education_level\\tinternet_quality\\tmental_health_rating\\textracurricular_participation\\texam_score</th>\n",
       "    </tr>\n",
       "  </thead>\n",
       "  <tbody>\n",
       "    <tr>\n",
       "      <th>990</th>\n",
       "      <td>S1990\\t18\\tMale\\t3.2\\t3.5\\t1.7\\tNo\\t91.7\\t6.5\\...</td>\n",
       "    </tr>\n",
       "    <tr>\n",
       "      <th>991</th>\n",
       "      <td>S1991\\t20\\tMale\\t6\\t2.1\\t3\\tNo\\t86.7\\t5.1\\tGoo...</td>\n",
       "    </tr>\n",
       "    <tr>\n",
       "      <th>992</th>\n",
       "      <td>S1992\\t18\\tMale\\t3.5\\t0\\t1.9\\tNo\\t96.8\\t6.4\\tF...</td>\n",
       "    </tr>\n",
       "    <tr>\n",
       "      <th>993</th>\n",
       "      <td>S1993\\t20\\tMale\\t3.8\\t2.1\\t1\\tNo\\t89\\t5.2\\tGoo...</td>\n",
       "    </tr>\n",
       "    <tr>\n",
       "      <th>994</th>\n",
       "      <td>S1994\\t20\\tFemale\\t1.6\\t1.3\\t2.9\\tNo\\t75.3\\t5....</td>\n",
       "    </tr>\n",
       "    <tr>\n",
       "      <th>995</th>\n",
       "      <td>S1995\\t21\\tFemale\\t2.6\\t0.5\\t1.6\\tNo\\t77\\t7.5\\...</td>\n",
       "    </tr>\n",
       "    <tr>\n",
       "      <th>996</th>\n",
       "      <td>S1996\\t17\\tFemale\\t2.9\\t1\\t2.4\\tYes\\t86\\t6.8\\t...</td>\n",
       "    </tr>\n",
       "    <tr>\n",
       "      <th>997</th>\n",
       "      <td>S1997\\t20\\tMale\\t3\\t2.6\\t1.3\\tNo\\t61.9\\t6.5\\tG...</td>\n",
       "    </tr>\n",
       "    <tr>\n",
       "      <th>998</th>\n",
       "      <td>S1998\\t24\\tMale\\t5.4\\t4.1\\t1.1\\tYes\\t100\\t7.6\\...</td>\n",
       "    </tr>\n",
       "    <tr>\n",
       "      <th>999</th>\n",
       "      <td>S1999\\t19\\tFemale\\t4.3\\t2.9\\t1.9\\tNo\\t89.4\\t7....</td>\n",
       "    </tr>\n",
       "  </tbody>\n",
       "</table>\n",
       "</div>"
      ],
      "text/plain": [
       "    student_id\\tage\\tgender\\tstudy_hours_per_day\\tsocial_media_hours\\tnetflix_hours\\tpart_time_job\\tattendance_percentage\\tsleep_hours\\tdiet_quality\\texercise_frequency\\tparental_education_level\\tinternet_quality\\tmental_health_rating\\textracurricular_participation\\texam_score\n",
       "990  S1990\\t18\\tMale\\t3.2\\t3.5\\t1.7\\tNo\\t91.7\\t6.5\\...                                                                                                                                                                                                                               \n",
       "991  S1991\\t20\\tMale\\t6\\t2.1\\t3\\tNo\\t86.7\\t5.1\\tGoo...                                                                                                                                                                                                                               \n",
       "992  S1992\\t18\\tMale\\t3.5\\t0\\t1.9\\tNo\\t96.8\\t6.4\\tF...                                                                                                                                                                                                                               \n",
       "993  S1993\\t20\\tMale\\t3.8\\t2.1\\t1\\tNo\\t89\\t5.2\\tGoo...                                                                                                                                                                                                                               \n",
       "994  S1994\\t20\\tFemale\\t1.6\\t1.3\\t2.9\\tNo\\t75.3\\t5....                                                                                                                                                                                                                               \n",
       "995  S1995\\t21\\tFemale\\t2.6\\t0.5\\t1.6\\tNo\\t77\\t7.5\\...                                                                                                                                                                                                                               \n",
       "996  S1996\\t17\\tFemale\\t2.9\\t1\\t2.4\\tYes\\t86\\t6.8\\t...                                                                                                                                                                                                                               \n",
       "997  S1997\\t20\\tMale\\t3\\t2.6\\t1.3\\tNo\\t61.9\\t6.5\\tG...                                                                                                                                                                                                                               \n",
       "998  S1998\\t24\\tMale\\t5.4\\t4.1\\t1.1\\tYes\\t100\\t7.6\\...                                                                                                                                                                                                                               \n",
       "999  S1999\\t19\\tFemale\\t4.3\\t2.9\\t1.9\\tNo\\t89.4\\t7....                                                                                                                                                                                                                               "
      ]
     },
     "execution_count": 21,
     "metadata": {},
     "output_type": "execute_result"
    }
   ],
   "source": [
    "# Display the last ten rows\n",
    "df.tail(10)"
   ]
  }
 ],
 "metadata": {
  "kernelspec": {
   "display_name": ".venv",
   "language": "python",
   "name": "python3"
  },
  "language_info": {
   "codemirror_mode": {
    "name": "ipython",
    "version": 3
   },
   "file_extension": ".py",
   "mimetype": "text/x-python",
   "name": "python",
   "nbconvert_exporter": "python",
   "pygments_lexer": "ipython3",
   "version": "3.13.3"
  }
 },
 "nbformat": 4,
 "nbformat_minor": 5
}
