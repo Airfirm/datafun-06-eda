{
 "cells": [
  {
   "cell_type": "markdown",
   "id": "bdde3870",
   "metadata": {},
   "source": [
    "### Load csv file datasets from local machine into the eda_datasets folder VS Code"
   ]
  },
  {
   "cell_type": "code",
   "execution_count": 1,
   "id": "b29b0476",
   "metadata": {},
   "outputs": [],
   "source": [
    "import pandas as pd\n",
    "import os"
   ]
  },
  {
   "cell_type": "code",
   "execution_count": 3,
   "id": "60455003",
   "metadata": {},
   "outputs": [
    {
     "name": "stdout",
     "output_type": "stream",
     "text": [
      "File loaded from:\n",
      "  C:\\Users\\ogsal\\OneDrive\\Desktop\\NWMSU\\student_habits_performance.csv\n",
      "and saved to:\n",
      "  eda_datasets\\student_habits_vs_academic_performance.csv\n"
     ]
    }
   ],
   "source": [
    "# Path - \"C:\\Users\\ogsal\\OneDrive\\Desktop\\NWMSU\\student_habits_performance.csv\"\n",
    "source_path = r\"C:\\Users\\ogsal\\OneDrive\\Desktop\\NWMSU\\student_habits_performance.csv\"\n",
    "\n",
    "# Path to destination folder and file\n",
    "dest_folder = \"eda_datasets\"\n",
    "dest_file = \"student_habits_vs_academic_performance.csv\"\n",
    "dest_path = os.path.join(dest_folder, dest_file)\n",
    "\n",
    "# Create the destination folder if it doesn't exist\n",
    "os.makedirs(dest_folder, exist_ok=True)\n",
    "\n",
    "try:\n",
    "    # Load the CSV from the source path\n",
    "    df = pd.read_csv(source_path)\n",
    "    # Save the DataFrame to the destination path (overwrite if exists)\n",
    "    df.to_csv(dest_path, index=False)\n",
    "    print(f\"File loaded from:\\n  {source_path}\\nand saved to:\\n  {dest_path}\")\n",
    "except FileNotFoundError:\n",
    "    print(f\"Error: Source file not found at {source_path}\")\n",
    "except pd.errors.EmptyDataError:\n",
    "    print(\"Error: The source CSV file is empty.\")\n",
    "except Exception as e:\n",
    "    print(f\"An unexpected error occurred: {e}\")"
   ]
  }
 ],
 "metadata": {
  "kernelspec": {
   "display_name": ".venv",
   "language": "python",
   "name": "python3"
  },
  "language_info": {
   "codemirror_mode": {
    "name": "ipython",
    "version": 3
   },
   "file_extension": ".py",
   "mimetype": "text/x-python",
   "name": "python",
   "nbconvert_exporter": "python",
   "pygments_lexer": "ipython3",
   "version": "3.13.3"
  }
 },
 "nbformat": 4,
 "nbformat_minor": 5
}
